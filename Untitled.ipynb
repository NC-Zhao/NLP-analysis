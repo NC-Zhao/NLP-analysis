{
 "cells": [
  {
   "cell_type": "code",
   "execution_count": 8,
   "id": "aab6f271",
   "metadata": {},
   "outputs": [],
   "source": [
    "import re\n",
    "import pandas as pd\n",
    "import nltk"
   ]
  },
  {
   "cell_type": "code",
   "execution_count": 25,
   "id": "a774300b",
   "metadata": {},
   "outputs": [
    {
     "data": {
      "text/plain": [
       "0       Adpfe\n",
       "1    Bjado  k\n",
       "dtype: object"
      ]
     },
     "execution_count": 25,
     "metadata": {},
     "output_type": "execute_result"
    }
   ],
   "source": [
    "x = pd.Series(['Adpαfe-3','Bjadβo$6k283ë'])\n",
    "x.apply(lambda x: \" \".join([re.sub('[^A-Za-z]+','',x) for x in nltk.word_tokenize(x)]))"
   ]
  },
  {
   "cell_type": "code",
   "execution_count": null,
   "id": "f124fc72",
   "metadata": {},
   "outputs": [],
   "source": [
    "# import nltk\n",
    "# from nltk.corpus import stopwords\n",
    "# # from nltk.stem import PorterStemmer\n",
    "# stop_words = stopwords.words('english')\n",
    "# stop_words.extend(['from', 'subject', 're', 'edu', 'use'])"
   ]
  },
  {
   "cell_type": "code",
   "execution_count": null,
   "id": "e3f37262",
   "metadata": {},
   "outputs": [],
   "source": [
    "# documents1 = list()\n",
    "# # ps = PorterStemmer()\n",
    "# for i in range(len(documents)):\n",
    "#     words = documents[i].split()\n",
    "# #     for w in words:\n",
    "# #         w = ps.stem(w)\n",
    "#     documents1.append([word for word in words if word not in stop_words])\n",
    "# documents1"
   ]
  },
  {
   "cell_type": "code",
   "execution_count": null,
   "id": "053f52fc",
   "metadata": {},
   "outputs": [],
   "source": []
  }
 ],
 "metadata": {
  "kernelspec": {
   "display_name": "Python 3 (ipykernel)",
   "language": "python",
   "name": "python3"
  },
  "language_info": {
   "codemirror_mode": {
    "name": "ipython",
    "version": 3
   },
   "file_extension": ".py",
   "mimetype": "text/x-python",
   "name": "python",
   "nbconvert_exporter": "python",
   "pygments_lexer": "ipython3",
   "version": "3.8.11"
  },
  "varInspector": {
   "cols": {
    "lenName": 16,
    "lenType": 16,
    "lenVar": 40
   },
   "kernels_config": {
    "python": {
     "delete_cmd_postfix": "",
     "delete_cmd_prefix": "del ",
     "library": "var_list.py",
     "varRefreshCmd": "print(var_dic_list())"
    },
    "r": {
     "delete_cmd_postfix": ") ",
     "delete_cmd_prefix": "rm(",
     "library": "var_list.r",
     "varRefreshCmd": "cat(var_dic_list()) "
    }
   },
   "types_to_exclude": [
    "module",
    "function",
    "builtin_function_or_method",
    "instance",
    "_Feature"
   ],
   "window_display": false
  }
 },
 "nbformat": 4,
 "nbformat_minor": 5
}
