{
 "cells": [
  {
   "cell_type": "code",
   "execution_count": 1,
   "id": "5bfee833",
   "metadata": {},
   "outputs": [],
   "source": [
    "import numpy as np\n",
    "import pandas as pd"
   ]
  },
  {
   "cell_type": "code",
   "execution_count": 2,
   "id": "5708160f",
   "metadata": {},
   "outputs": [],
   "source": [
    "x_train= pd.read_csv('data_reviews/x_train.csv')\n",
    "y_train= pd.read_csv('data_reviews/y_train.csv')"
   ]
  },
  {
   "cell_type": "code",
   "execution_count": 3,
   "id": "85788f38",
   "metadata": {},
   "outputs": [],
   "source": [
    "from matplotlib import pyplot as plt\n",
    "import seaborn as sns\n",
    "%matplotlib inline\n",
    "plt.style.use('seaborn')"
   ]
  },
  {
   "cell_type": "code",
   "execution_count": 4,
   "id": "147ba63b",
   "metadata": {},
   "outputs": [],
   "source": [
    "import math"
   ]
  },
  {
   "cell_type": "code",
   "execution_count": 5,
   "id": "33fd392a",
   "metadata": {},
   "outputs": [],
   "source": [
    "import re\n",
    "import nltk"
   ]
  },
  {
   "cell_type": "code",
   "execution_count": 6,
   "id": "04047b83",
   "metadata": {},
   "outputs": [],
   "source": [
    "#lower case\n",
    "x_train['text_processed'] = x_train['text'].map(lambda x: x.lower())\n",
    "\n",
    "# contractions\n",
    "def contractions(s):\n",
    "    s = re.sub(r\"won’t\", \"will not\",s)\n",
    "    s = re.sub(r\"would’t\",\"would not\",s)\n",
    "    s = re.sub(r\"could’t\", \"could not\",s)\n",
    "    s = re.sub(r\"\\'d\", \" would\",s)\n",
    "    s = re.sub(r\"can\\'t\", \"can not\",s)\n",
    "    s = re.sub(r\"n\\'t\", \" not\", s)\n",
    "    s = re.sub(r\"\\'re\", \" are\", s)\n",
    "    s = re.sub(r\"\\'s\", \" is\", s)\n",
    "    s = re.sub(r\"\\'ll\", \" will\", s)\n",
    "    s = re.sub(r\"\\'t\", \" not\", s)\n",
    "    s = re.sub(r\"\\'ve\", \" have\", s)\n",
    "    s = re.sub(r\"\\'m\", \" am\", s)\n",
    "    return s\n",
    "x_train['text_processed'] = x_train['text_processed'].map(lambda x: contractions(x))\n",
    "\n",
    "x_train['text_processed'] = x_train['text_processed'].map(lambda x: re.sub('[.!,\\.?()0123456789:;\\x85\\x96\\x97\"#$%&()\\[\\]*+-/\\']', '', x))\n",
    "\n",
    "# remove non-alpha words\n",
    "import nltk\n",
    "x_train['text_processed'] = x_train['text_processed'].apply(lambda x: \" \".join([re.sub('[^A-Za-z]+','',x) for x in nltk.word_tokenize(x)]))\n",
    "\n",
    "# remove extra spaces\n",
    "x_train['text_processed'] = x_train['text_processed'].apply(lambda x: re.sub(' +',' ', x))"
   ]
  },
  {
   "cell_type": "code",
   "execution_count": 7,
   "id": "669bd243",
   "metadata": {},
   "outputs": [],
   "source": [
    "from nltk.corpus import stopwords\n",
    "stop = stopwords.words('english')\n",
    "x_train['1'] = x_train['text_processed'].apply(lambda x: \" \".join([x for x in x.split() if x not in stop]))"
   ]
  },
  {
   "cell_type": "code",
   "execution_count": 8,
   "id": "059d516b",
   "metadata": {},
   "outputs": [],
   "source": [
    "from nltk.stem import WordNetLemmatizer\n",
    "lemmatizer = WordNetLemmatizer()\n",
    "x_train['1'] = x_train['1'].apply(lambda x: \" \".join([lemmatizer.lemmatize(w) for w in nltk.word_tokenize(x)]))\n",
    "x_train['2'] = x_train['text_processed'].apply(lambda x: \" \".join([lemmatizer.lemmatize(w) for w in nltk.word_tokenize(x)]))"
   ]
  },
  {
   "cell_type": "code",
   "execution_count": 11,
   "id": "70c9dd56",
   "metadata": {},
   "outputs": [],
   "source": [
    "# # count vectorizor, 'text processed'\n",
    "import time"
   ]
  },
  {
   "cell_type": "code",
   "execution_count": 16,
   "id": "a2131db9",
   "metadata": {},
   "outputs": [
    {
     "name": "stdout",
     "output_type": "stream",
     "text": [
      "160.5552372932434\n"
     ]
    },
    {
     "name": "stderr",
     "output_type": "stream",
     "text": [
      "C:\\Users\\Zhaohui Zhang\\.conda\\envs\\ml135_env_sp21\\lib\\site-packages\\sklearn\\neural_network\\_multilayer_perceptron.py:500: ConvergenceWarning: lbfgs failed to converge (status=1):\n",
      "STOP: TOTAL NO. of ITERATIONS REACHED LIMIT.\n",
      "\n",
      "Increase the number of iterations (max_iter) or scale the data as shown in:\n",
      "    https://scikit-learn.org/stable/modules/preprocessing.html\n",
      "  self.n_iter_ = _check_optimize_result(\"lbfgs\", opt_res, self.max_iter)\n"
     ]
    }
   ],
   "source": [
    "# countvectorize\n",
    "from sklearn.feature_extraction.text import CountVectorizer\n",
    "from sklearn.neural_network import MLPClassifier\n",
    "from sklearn.pipeline import Pipeline\n",
    "from sklearn.model_selection import GridSearchCV\n",
    "from sklearn.model_selection import RandomizedSearchCV\n",
    "\n",
    "param_grid = {'mlp__hidden_layer_sizes':[(100,), (50,),(20,20),(50, 100)], \n",
    "              'mlp__solver': ['lbfgs'],\n",
    "              'mlp__alpha': np.logspace(-4, 2, 6),\n",
    "              'mlp__max_iter': [50]          \n",
    "             }\n",
    "pipeline = Pipeline(\n",
    "    [\n",
    "        (\"vect\", CountVectorizer()),\n",
    "        ('mlp', MLPClassifier())\n",
    "    ]\n",
    ")\n",
    "\n",
    "a = time.time()\n",
    "\n",
    "grid = GridSearchCV(pipeline, param_grid, return_train_score = False, n_jobs = -1)\n",
    "grid.fit(x_train['text_processed'], y_train.values.reshape(-1))\n",
    "# print(grid.cv_results_)\n",
    "# print(grid.best_params_)\n",
    "# print(grid.best_score_)\n",
    "print(time.time()-a)"
   ]
  },
  {
   "cell_type": "code",
   "execution_count": 18,
   "id": "b30f96c0",
   "metadata": {},
   "outputs": [
    {
     "name": "stdout",
     "output_type": "stream",
     "text": [
      "{'mean_fit_time': array([ 6.31391816,  3.3847507 ,  1.6312356 ,  4.383077  ,  6.37355804,\n",
      "        3.44598584,  1.67831116,  5.15122519, 10.06767955,  5.38719687,\n",
      "        1.89532905,  5.99796267, 11.15337367,  5.6173799 ,  1.80417199,\n",
      "        6.14775715, 11.02870927,  5.60540986,  1.80816445,  6.07435641,\n",
      "        7.89229875,  4.27018061,  0.61295891,  1.52053423]), 'std_fit_time': array([0.44216759, 0.23945866, 0.3740161 , 0.22608529, 0.37770163,\n",
      "       0.0963941 , 0.18765386, 0.55222259, 1.20071665, 0.25676726,\n",
      "       0.27095656, 0.1319133 , 0.38553248, 0.23235317, 0.14255264,\n",
      "       0.17423685, 0.31715506, 0.2619171 , 0.19092716, 0.2133066 ,\n",
      "       1.04381301, 0.30615747, 0.09521894, 0.25333151]), 'mean_score_time': array([0.01914959, 0.01795263, 0.01655746, 0.02134323, 0.02014604,\n",
      "       0.0197494 , 0.01655455, 0.01815138, 0.02014604, 0.01874738,\n",
      "       0.01715355, 0.02054648, 0.02014794, 0.01875029, 0.01675696,\n",
      "       0.01875215, 0.01954861, 0.0187531 , 0.01835337, 0.01954746,\n",
      "       0.02134423, 0.01914902, 0.01496201, 0.01615705]), 'std_score_time': array([0.00460861, 0.00140929, 0.00135399, 0.00325208, 0.00182991,\n",
      "       0.00193394, 0.0014939 , 0.00230743, 0.00395927, 0.00330292,\n",
      "       0.0017175 , 0.00232575, 0.00213013, 0.00230792, 0.00222291,\n",
      "       0.00270579, 0.00376651, 0.00231072, 0.00162018, 0.00360159,\n",
      "       0.00386828, 0.00369999, 0.00141145, 0.00502269]), 'param_mlp__alpha': masked_array(data=[0.0001, 0.0001, 0.0001, 0.0001, 0.001584893192461114,\n",
      "                   0.001584893192461114, 0.001584893192461114,\n",
      "                   0.001584893192461114, 0.025118864315095794,\n",
      "                   0.025118864315095794, 0.025118864315095794,\n",
      "                   0.025118864315095794, 0.3981071705534969,\n",
      "                   0.3981071705534969, 0.3981071705534969,\n",
      "                   0.3981071705534969, 6.30957344480193, 6.30957344480193,\n",
      "                   6.30957344480193, 6.30957344480193, 100.0, 100.0,\n",
      "                   100.0, 100.0],\n",
      "             mask=[False, False, False, False, False, False, False, False,\n",
      "                   False, False, False, False, False, False, False, False,\n",
      "                   False, False, False, False, False, False, False, False],\n",
      "       fill_value='?',\n",
      "            dtype=object), 'param_mlp__hidden_layer_sizes': masked_array(data=[(100,), (50,), (20, 20), (50, 100), (100,), (50,),\n",
      "                   (20, 20), (50, 100), (100,), (50,), (20, 20),\n",
      "                   (50, 100), (100,), (50,), (20, 20), (50, 100), (100,),\n",
      "                   (50,), (20, 20), (50, 100), (100,), (50,), (20, 20),\n",
      "                   (50, 100)],\n",
      "             mask=[False, False, False, False, False, False, False, False,\n",
      "                   False, False, False, False, False, False, False, False,\n",
      "                   False, False, False, False, False, False, False, False],\n",
      "       fill_value='?',\n",
      "            dtype=object), 'param_mlp__max_iter': masked_array(data=[50, 50, 50, 50, 50, 50, 50, 50, 50, 50, 50, 50, 50, 50,\n",
      "                   50, 50, 50, 50, 50, 50, 50, 50, 50, 50],\n",
      "             mask=[False, False, False, False, False, False, False, False,\n",
      "                   False, False, False, False, False, False, False, False,\n",
      "                   False, False, False, False, False, False, False, False],\n",
      "       fill_value='?',\n",
      "            dtype=object), 'param_mlp__solver': masked_array(data=['lbfgs', 'lbfgs', 'lbfgs', 'lbfgs', 'lbfgs', 'lbfgs',\n",
      "                   'lbfgs', 'lbfgs', 'lbfgs', 'lbfgs', 'lbfgs', 'lbfgs',\n",
      "                   'lbfgs', 'lbfgs', 'lbfgs', 'lbfgs', 'lbfgs', 'lbfgs',\n",
      "                   'lbfgs', 'lbfgs', 'lbfgs', 'lbfgs', 'lbfgs', 'lbfgs'],\n",
      "             mask=[False, False, False, False, False, False, False, False,\n",
      "                   False, False, False, False, False, False, False, False,\n",
      "                   False, False, False, False, False, False, False, False],\n",
      "       fill_value='?',\n",
      "            dtype=object), 'params': [{'mlp__alpha': 0.0001, 'mlp__hidden_layer_sizes': (100,), 'mlp__max_iter': 50, 'mlp__solver': 'lbfgs'}, {'mlp__alpha': 0.0001, 'mlp__hidden_layer_sizes': (50,), 'mlp__max_iter': 50, 'mlp__solver': 'lbfgs'}, {'mlp__alpha': 0.0001, 'mlp__hidden_layer_sizes': (20, 20), 'mlp__max_iter': 50, 'mlp__solver': 'lbfgs'}, {'mlp__alpha': 0.0001, 'mlp__hidden_layer_sizes': (50, 100), 'mlp__max_iter': 50, 'mlp__solver': 'lbfgs'}, {'mlp__alpha': 0.001584893192461114, 'mlp__hidden_layer_sizes': (100,), 'mlp__max_iter': 50, 'mlp__solver': 'lbfgs'}, {'mlp__alpha': 0.001584893192461114, 'mlp__hidden_layer_sizes': (50,), 'mlp__max_iter': 50, 'mlp__solver': 'lbfgs'}, {'mlp__alpha': 0.001584893192461114, 'mlp__hidden_layer_sizes': (20, 20), 'mlp__max_iter': 50, 'mlp__solver': 'lbfgs'}, {'mlp__alpha': 0.001584893192461114, 'mlp__hidden_layer_sizes': (50, 100), 'mlp__max_iter': 50, 'mlp__solver': 'lbfgs'}, {'mlp__alpha': 0.025118864315095794, 'mlp__hidden_layer_sizes': (100,), 'mlp__max_iter': 50, 'mlp__solver': 'lbfgs'}, {'mlp__alpha': 0.025118864315095794, 'mlp__hidden_layer_sizes': (50,), 'mlp__max_iter': 50, 'mlp__solver': 'lbfgs'}, {'mlp__alpha': 0.025118864315095794, 'mlp__hidden_layer_sizes': (20, 20), 'mlp__max_iter': 50, 'mlp__solver': 'lbfgs'}, {'mlp__alpha': 0.025118864315095794, 'mlp__hidden_layer_sizes': (50, 100), 'mlp__max_iter': 50, 'mlp__solver': 'lbfgs'}, {'mlp__alpha': 0.3981071705534969, 'mlp__hidden_layer_sizes': (100,), 'mlp__max_iter': 50, 'mlp__solver': 'lbfgs'}, {'mlp__alpha': 0.3981071705534969, 'mlp__hidden_layer_sizes': (50,), 'mlp__max_iter': 50, 'mlp__solver': 'lbfgs'}, {'mlp__alpha': 0.3981071705534969, 'mlp__hidden_layer_sizes': (20, 20), 'mlp__max_iter': 50, 'mlp__solver': 'lbfgs'}, {'mlp__alpha': 0.3981071705534969, 'mlp__hidden_layer_sizes': (50, 100), 'mlp__max_iter': 50, 'mlp__solver': 'lbfgs'}, {'mlp__alpha': 6.30957344480193, 'mlp__hidden_layer_sizes': (100,), 'mlp__max_iter': 50, 'mlp__solver': 'lbfgs'}, {'mlp__alpha': 6.30957344480193, 'mlp__hidden_layer_sizes': (50,), 'mlp__max_iter': 50, 'mlp__solver': 'lbfgs'}, {'mlp__alpha': 6.30957344480193, 'mlp__hidden_layer_sizes': (20, 20), 'mlp__max_iter': 50, 'mlp__solver': 'lbfgs'}, {'mlp__alpha': 6.30957344480193, 'mlp__hidden_layer_sizes': (50, 100), 'mlp__max_iter': 50, 'mlp__solver': 'lbfgs'}, {'mlp__alpha': 100.0, 'mlp__hidden_layer_sizes': (100,), 'mlp__max_iter': 50, 'mlp__solver': 'lbfgs'}, {'mlp__alpha': 100.0, 'mlp__hidden_layer_sizes': (50,), 'mlp__max_iter': 50, 'mlp__solver': 'lbfgs'}, {'mlp__alpha': 100.0, 'mlp__hidden_layer_sizes': (20, 20), 'mlp__max_iter': 50, 'mlp__solver': 'lbfgs'}, {'mlp__alpha': 100.0, 'mlp__hidden_layer_sizes': (50, 100), 'mlp__max_iter': 50, 'mlp__solver': 'lbfgs'}], 'split0_test_score': array([0.8       , 0.81875   , 0.81875   , 0.825     , 0.80208333,\n",
      "       0.80833333, 0.79791667, 0.81666667, 0.80416667, 0.81875   ,\n",
      "       0.80833333, 0.82291667, 0.81041667, 0.81458333, 0.80625   ,\n",
      "       0.80416667, 0.82916667, 0.82083333, 0.83125   , 0.82291667,\n",
      "       0.77708333, 0.77916667, 0.5       , 0.5       ]), 'split1_test_score': array([0.78958333, 0.8       , 0.77083333, 0.78958333, 0.80833333,\n",
      "       0.7875    , 0.7875    , 0.78958333, 0.78125   , 0.78333333,\n",
      "       0.79583333, 0.81458333, 0.79583333, 0.79166667, 0.80833333,\n",
      "       0.79166667, 0.825     , 0.8125    , 0.80625   , 0.80833333,\n",
      "       0.70416667, 0.70625   , 0.5       , 0.5       ]), 'split2_test_score': array([0.74583333, 0.75416667, 0.76666667, 0.75416667, 0.75208333,\n",
      "       0.76875   , 0.72916667, 0.7375    , 0.7625    , 0.75416667,\n",
      "       0.75416667, 0.77083333, 0.76666667, 0.7625    , 0.7375    ,\n",
      "       0.7375    , 0.77083333, 0.76875   , 0.75833333, 0.75625   ,\n",
      "       0.69583333, 0.69791667, 0.5       , 0.5       ]), 'split3_test_score': array([0.7875    , 0.77708333, 0.75833333, 0.75833333, 0.7875    ,\n",
      "       0.77291667, 0.76666667, 0.76666667, 0.78125   , 0.77083333,\n",
      "       0.76458333, 0.76458333, 0.79375   , 0.78125   , 0.7875    ,\n",
      "       0.77916667, 0.78333333, 0.78333333, 0.775     , 0.77916667,\n",
      "       0.7125    , 0.7125    , 0.5       , 0.5       ]), 'split4_test_score': array([0.78541667, 0.78541667, 0.78333333, 0.79791667, 0.78333333,\n",
      "       0.8       , 0.80208333, 0.7875    , 0.82916667, 0.82916667,\n",
      "       0.80208333, 0.81875   , 0.8375    , 0.83333333, 0.825     ,\n",
      "       0.81875   , 0.84166667, 0.84791667, 0.83125   , 0.825     ,\n",
      "       0.7625    , 0.7625    , 0.5       , 0.5       ]), 'mean_test_score': array([0.78166667, 0.78708333, 0.77958333, 0.785     , 0.78666667,\n",
      "       0.7875    , 0.77666667, 0.77958333, 0.79166667, 0.79125   ,\n",
      "       0.785     , 0.79833333, 0.80083333, 0.79666667, 0.79291667,\n",
      "       0.78625   , 0.81      , 0.80666667, 0.80041667, 0.79833333,\n",
      "       0.73041667, 0.73166667, 0.5       , 0.5       ]), 'std_test_score': array([0.01860593, 0.02170669, 0.02118044, 0.02626653, 0.01957003,\n",
      "       0.01519549, 0.0267252 , 0.02636549, 0.0229356 , 0.02845562,\n",
      "       0.02154614, 0.02522124, 0.02314657, 0.02488166, 0.03015009,\n",
      "       0.02768875, 0.02771382, 0.0279943 , 0.029504  , 0.02666016,\n",
      "       0.03290348, 0.0327395 , 0.        , 0.        ]), 'rank_test_score': array([17, 12, 18, 16, 13, 11, 20, 18,  9, 10, 15,  6,  3,  7,  8, 14,  1,\n",
      "        2,  4,  5, 22, 21, 23, 23])}\n",
      "{'mlp__alpha': 6.30957344480193, 'mlp__hidden_layer_sizes': (100,), 'mlp__max_iter': 50, 'mlp__solver': 'lbfgs'}\n",
      "0.8099999999999999\n"
     ]
    }
   ],
   "source": [
    "print(grid.cv_results_)\n",
    "print(grid.best_params_)\n",
    "print(grid.best_score_)"
   ]
  },
  {
   "cell_type": "code",
   "execution_count": 19,
   "id": "d001580c",
   "metadata": {},
   "outputs": [
    {
     "name": "stdout",
     "output_type": "stream",
     "text": [
      "976.1293363571167\n"
     ]
    },
    {
     "name": "stderr",
     "output_type": "stream",
     "text": [
      "C:\\Users\\Zhaohui Zhang\\.conda\\envs\\ml135_env_sp21\\lib\\site-packages\\sklearn\\neural_network\\_multilayer_perceptron.py:500: ConvergenceWarning: lbfgs failed to converge (status=1):\n",
      "STOP: TOTAL NO. of ITERATIONS REACHED LIMIT.\n",
      "\n",
      "Increase the number of iterations (max_iter) or scale the data as shown in:\n",
      "    https://scikit-learn.org/stable/modules/preprocessing.html\n",
      "  self.n_iter_ = _check_optimize_result(\"lbfgs\", opt_res, self.max_iter)\n"
     ]
    }
   ],
   "source": [
    "param_grid = {'mlp__hidden_layer_sizes':[(100,), (50,),(200,), (300,)], \n",
    "              'mlp__solver': ['lbfgs'],\n",
    "              'mlp__alpha': np.logspace(0,2,4),\n",
    "              'mlp__max_iter': [50,100]          \n",
    "             }\n",
    "pipeline = Pipeline(\n",
    "    [\n",
    "        (\"vect\", CountVectorizer()),\n",
    "        ('mlp', MLPClassifier())\n",
    "    ]\n",
    ")\n",
    "\n",
    "a = time.time()\n",
    "\n",
    "grid = GridSearchCV(pipeline, param_grid, return_train_score = False, n_jobs = -1)\n",
    "grid.fit(x_train['text_processed'], y_train.values.reshape(-1))\n",
    "# print(grid.cv_results_)\n",
    "# print(grid.best_params_)\n",
    "# print(grid.best_score_)\n",
    "print(time.time()-a)"
   ]
  },
  {
   "cell_type": "code",
   "execution_count": 20,
   "id": "48752b85",
   "metadata": {},
   "outputs": [
    {
     "name": "stdout",
     "output_type": "stream",
     "text": [
      "{'mean_fit_time': array([12.26241083, 21.74425659,  5.77715197, 10.18775506, 22.88839722,\n",
      "       44.8889688 , 34.52588   , 67.20868683, 11.871456  , 22.27842879,\n",
      "        5.80068789, 10.26156068, 22.75236115, 43.91237998, 34.4181663 ,\n",
      "       67.29864964, 11.97438021, 22.12184615,  5.92276187,  9.37951822,\n",
      "       23.0292202 , 43.9957572 , 35.28544846, 65.97019858,  8.48850203,\n",
      "        8.97260728,  4.02324262,  4.20814629, 17.432585  , 16.35267339,\n",
      "       27.51263185, 26.36629639]), 'std_fit_time': array([0.66878937, 0.67074975, 0.25807554, 0.75100099, 0.98829378,\n",
      "       1.79710504, 2.34160691, 3.24715186, 0.69310802, 0.88208028,\n",
      "       0.22143273, 0.76144768, 0.90045052, 1.50906393, 2.12709324,\n",
      "       2.7286215 , 0.78644886, 0.79776827, 0.19263664, 1.68714757,\n",
      "       0.94391479, 1.5955823 , 2.54844997, 3.12485893, 0.95893776,\n",
      "       1.52374191, 0.3054503 , 0.48238407, 2.45486876, 1.59582495,\n",
      "       2.14055043, 1.70994317]), 'mean_score_time': array([0.02074795, 0.02094703, 0.02034698, 0.02214274, 0.0243351 ,\n",
      "       0.02214031, 0.02573347, 0.02852507, 0.0199481 , 0.02613087,\n",
      "       0.02254148, 0.02313867, 0.02234097, 0.02214065, 0.02752662,\n",
      "       0.02872176, 0.02473669, 0.02333884, 0.02633123, 0.02174425,\n",
      "       0.02573757, 0.02333775, 0.02932234, 0.02912469, 0.02214456,\n",
      "       0.02254105, 0.02473278, 0.0201479 , 0.02333899, 0.02273993,\n",
      "       0.03052039, 0.02434006]), 'std_score_time': array([0.0075016 , 0.00333873, 0.0036035 , 0.0068616 , 0.00299976,\n",
      "       0.00395828, 0.00385813, 0.00461886, 0.00356887, 0.00963695,\n",
      "       0.00184821, 0.00405797, 0.00264661, 0.00380479, 0.00425814,\n",
      "       0.00347743, 0.0027802 , 0.00205383, 0.00514797, 0.00193502,\n",
      "       0.00469512, 0.00569918, 0.00573255, 0.0051806 , 0.00213081,\n",
      "       0.00470329, 0.00517969, 0.00477785, 0.00600288, 0.00353616,\n",
      "       0.00566157, 0.00618944]), 'param_mlp__alpha': masked_array(data=[1.0, 1.0, 1.0, 1.0, 1.0, 1.0, 1.0, 1.0,\n",
      "                   4.641588833612778, 4.641588833612778,\n",
      "                   4.641588833612778, 4.641588833612778,\n",
      "                   4.641588833612778, 4.641588833612778,\n",
      "                   4.641588833612778, 4.641588833612778,\n",
      "                   21.544346900318832, 21.544346900318832,\n",
      "                   21.544346900318832, 21.544346900318832,\n",
      "                   21.544346900318832, 21.544346900318832,\n",
      "                   21.544346900318832, 21.544346900318832, 100.0, 100.0,\n",
      "                   100.0, 100.0, 100.0, 100.0, 100.0, 100.0],\n",
      "             mask=[False, False, False, False, False, False, False, False,\n",
      "                   False, False, False, False, False, False, False, False,\n",
      "                   False, False, False, False, False, False, False, False,\n",
      "                   False, False, False, False, False, False, False, False],\n",
      "       fill_value='?',\n",
      "            dtype=object), 'param_mlp__hidden_layer_sizes': masked_array(data=[(100,), (100,), (50,), (50,), (200,), (200,), (300,),\n",
      "                   (300,), (100,), (100,), (50,), (50,), (200,), (200,),\n",
      "                   (300,), (300,), (100,), (100,), (50,), (50,), (200,),\n",
      "                   (200,), (300,), (300,), (100,), (100,), (50,), (50,),\n",
      "                   (200,), (200,), (300,), (300,)],\n",
      "             mask=[False, False, False, False, False, False, False, False,\n",
      "                   False, False, False, False, False, False, False, False,\n",
      "                   False, False, False, False, False, False, False, False,\n",
      "                   False, False, False, False, False, False, False, False],\n",
      "       fill_value='?',\n",
      "            dtype=object), 'param_mlp__max_iter': masked_array(data=[50, 100, 50, 100, 50, 100, 50, 100, 50, 100, 50, 100,\n",
      "                   50, 100, 50, 100, 50, 100, 50, 100, 50, 100, 50, 100,\n",
      "                   50, 100, 50, 100, 50, 100, 50, 100],\n",
      "             mask=[False, False, False, False, False, False, False, False,\n",
      "                   False, False, False, False, False, False, False, False,\n",
      "                   False, False, False, False, False, False, False, False,\n",
      "                   False, False, False, False, False, False, False, False],\n",
      "       fill_value='?',\n",
      "            dtype=object), 'param_mlp__solver': masked_array(data=['lbfgs', 'lbfgs', 'lbfgs', 'lbfgs', 'lbfgs', 'lbfgs',\n",
      "                   'lbfgs', 'lbfgs', 'lbfgs', 'lbfgs', 'lbfgs', 'lbfgs',\n",
      "                   'lbfgs', 'lbfgs', 'lbfgs', 'lbfgs', 'lbfgs', 'lbfgs',\n",
      "                   'lbfgs', 'lbfgs', 'lbfgs', 'lbfgs', 'lbfgs', 'lbfgs',\n",
      "                   'lbfgs', 'lbfgs', 'lbfgs', 'lbfgs', 'lbfgs', 'lbfgs',\n",
      "                   'lbfgs', 'lbfgs'],\n",
      "             mask=[False, False, False, False, False, False, False, False,\n",
      "                   False, False, False, False, False, False, False, False,\n",
      "                   False, False, False, False, False, False, False, False,\n",
      "                   False, False, False, False, False, False, False, False],\n",
      "       fill_value='?',\n",
      "            dtype=object), 'params': [{'mlp__alpha': 1.0, 'mlp__hidden_layer_sizes': (100,), 'mlp__max_iter': 50, 'mlp__solver': 'lbfgs'}, {'mlp__alpha': 1.0, 'mlp__hidden_layer_sizes': (100,), 'mlp__max_iter': 100, 'mlp__solver': 'lbfgs'}, {'mlp__alpha': 1.0, 'mlp__hidden_layer_sizes': (50,), 'mlp__max_iter': 50, 'mlp__solver': 'lbfgs'}, {'mlp__alpha': 1.0, 'mlp__hidden_layer_sizes': (50,), 'mlp__max_iter': 100, 'mlp__solver': 'lbfgs'}, {'mlp__alpha': 1.0, 'mlp__hidden_layer_sizes': (200,), 'mlp__max_iter': 50, 'mlp__solver': 'lbfgs'}, {'mlp__alpha': 1.0, 'mlp__hidden_layer_sizes': (200,), 'mlp__max_iter': 100, 'mlp__solver': 'lbfgs'}, {'mlp__alpha': 1.0, 'mlp__hidden_layer_sizes': (300,), 'mlp__max_iter': 50, 'mlp__solver': 'lbfgs'}, {'mlp__alpha': 1.0, 'mlp__hidden_layer_sizes': (300,), 'mlp__max_iter': 100, 'mlp__solver': 'lbfgs'}, {'mlp__alpha': 4.641588833612778, 'mlp__hidden_layer_sizes': (100,), 'mlp__max_iter': 50, 'mlp__solver': 'lbfgs'}, {'mlp__alpha': 4.641588833612778, 'mlp__hidden_layer_sizes': (100,), 'mlp__max_iter': 100, 'mlp__solver': 'lbfgs'}, {'mlp__alpha': 4.641588833612778, 'mlp__hidden_layer_sizes': (50,), 'mlp__max_iter': 50, 'mlp__solver': 'lbfgs'}, {'mlp__alpha': 4.641588833612778, 'mlp__hidden_layer_sizes': (50,), 'mlp__max_iter': 100, 'mlp__solver': 'lbfgs'}, {'mlp__alpha': 4.641588833612778, 'mlp__hidden_layer_sizes': (200,), 'mlp__max_iter': 50, 'mlp__solver': 'lbfgs'}, {'mlp__alpha': 4.641588833612778, 'mlp__hidden_layer_sizes': (200,), 'mlp__max_iter': 100, 'mlp__solver': 'lbfgs'}, {'mlp__alpha': 4.641588833612778, 'mlp__hidden_layer_sizes': (300,), 'mlp__max_iter': 50, 'mlp__solver': 'lbfgs'}, {'mlp__alpha': 4.641588833612778, 'mlp__hidden_layer_sizes': (300,), 'mlp__max_iter': 100, 'mlp__solver': 'lbfgs'}, {'mlp__alpha': 21.544346900318832, 'mlp__hidden_layer_sizes': (100,), 'mlp__max_iter': 50, 'mlp__solver': 'lbfgs'}, {'mlp__alpha': 21.544346900318832, 'mlp__hidden_layer_sizes': (100,), 'mlp__max_iter': 100, 'mlp__solver': 'lbfgs'}, {'mlp__alpha': 21.544346900318832, 'mlp__hidden_layer_sizes': (50,), 'mlp__max_iter': 50, 'mlp__solver': 'lbfgs'}, {'mlp__alpha': 21.544346900318832, 'mlp__hidden_layer_sizes': (50,), 'mlp__max_iter': 100, 'mlp__solver': 'lbfgs'}, {'mlp__alpha': 21.544346900318832, 'mlp__hidden_layer_sizes': (200,), 'mlp__max_iter': 50, 'mlp__solver': 'lbfgs'}, {'mlp__alpha': 21.544346900318832, 'mlp__hidden_layer_sizes': (200,), 'mlp__max_iter': 100, 'mlp__solver': 'lbfgs'}, {'mlp__alpha': 21.544346900318832, 'mlp__hidden_layer_sizes': (300,), 'mlp__max_iter': 50, 'mlp__solver': 'lbfgs'}, {'mlp__alpha': 21.544346900318832, 'mlp__hidden_layer_sizes': (300,), 'mlp__max_iter': 100, 'mlp__solver': 'lbfgs'}, {'mlp__alpha': 100.0, 'mlp__hidden_layer_sizes': (100,), 'mlp__max_iter': 50, 'mlp__solver': 'lbfgs'}, {'mlp__alpha': 100.0, 'mlp__hidden_layer_sizes': (100,), 'mlp__max_iter': 100, 'mlp__solver': 'lbfgs'}, {'mlp__alpha': 100.0, 'mlp__hidden_layer_sizes': (50,), 'mlp__max_iter': 50, 'mlp__solver': 'lbfgs'}, {'mlp__alpha': 100.0, 'mlp__hidden_layer_sizes': (50,), 'mlp__max_iter': 100, 'mlp__solver': 'lbfgs'}, {'mlp__alpha': 100.0, 'mlp__hidden_layer_sizes': (200,), 'mlp__max_iter': 50, 'mlp__solver': 'lbfgs'}, {'mlp__alpha': 100.0, 'mlp__hidden_layer_sizes': (200,), 'mlp__max_iter': 100, 'mlp__solver': 'lbfgs'}, {'mlp__alpha': 100.0, 'mlp__hidden_layer_sizes': (300,), 'mlp__max_iter': 50, 'mlp__solver': 'lbfgs'}, {'mlp__alpha': 100.0, 'mlp__hidden_layer_sizes': (300,), 'mlp__max_iter': 100, 'mlp__solver': 'lbfgs'}], 'split0_test_score': array([0.81875   , 0.8125    , 0.81666667, 0.82083333, 0.80625   ,\n",
      "       0.81458333, 0.81458333, 0.8125    , 0.82291667, 0.82291667,\n",
      "       0.82708333, 0.825     , 0.82083333, 0.82708333, 0.825     ,\n",
      "       0.82291667, 0.81666667, 0.81666667, 0.82708333, 0.81875   ,\n",
      "       0.81666667, 0.82083333, 0.81875   , 0.81666667, 0.77916667,\n",
      "       0.77916667, 0.77708333, 0.78125   , 0.77916667, 0.775     ,\n",
      "       0.77708333, 0.77708333]), 'split1_test_score': array([0.79375   , 0.80416667, 0.79375   , 0.80833333, 0.80416667,\n",
      "       0.80625   , 0.80625   , 0.80833333, 0.81875   , 0.81458333,\n",
      "       0.82083333, 0.82291667, 0.81875   , 0.81458333, 0.80833333,\n",
      "       0.80833333, 0.81041667, 0.80625   , 0.80208333, 0.80833333,\n",
      "       0.81041667, 0.80833333, 0.80416667, 0.80625   , 0.70625   ,\n",
      "       0.70416667, 0.70416667, 0.70625   , 0.70625   , 0.70625   ,\n",
      "       0.70625   , 0.70416667]), 'split2_test_score': array([0.76875   , 0.76458333, 0.76875   , 0.75208333, 0.76875   ,\n",
      "       0.76875   , 0.77083333, 0.76458333, 0.76666667, 0.76875   ,\n",
      "       0.7625    , 0.76875   , 0.77083333, 0.76458333, 0.7625    ,\n",
      "       0.76666667, 0.77083333, 0.77083333, 0.77083333, 0.76875   ,\n",
      "       0.77291667, 0.77083333, 0.77083333, 0.76875   , 0.69583333,\n",
      "       0.69583333, 0.69791667, 0.69791667, 0.69791667, 0.69791667,\n",
      "       0.69583333, 0.69583333]), 'split3_test_score': array([0.77708333, 0.7875    , 0.78125   , 0.78541667, 0.7875    ,\n",
      "       0.78333333, 0.80208333, 0.78541667, 0.78958333, 0.78541667,\n",
      "       0.78958333, 0.77916667, 0.78333333, 0.7875    , 0.78125   ,\n",
      "       0.7875    , 0.79583333, 0.79375   , 0.79375   , 0.79375   ,\n",
      "       0.79583333, 0.79375   , 0.79166667, 0.79375   , 0.7125    ,\n",
      "       0.7125    , 0.7125    , 0.7125    , 0.7125    , 0.7125    ,\n",
      "       0.7125    , 0.7125    ]), 'split4_test_score': array([0.84583333, 0.84791667, 0.84166667, 0.84166667, 0.83958333,\n",
      "       0.84583333, 0.83958333, 0.84583333, 0.84166667, 0.83541667,\n",
      "       0.83958333, 0.83125   , 0.83541667, 0.84375   , 0.84166667,\n",
      "       0.83958333, 0.83125   , 0.83541667, 0.83333333, 0.83958333,\n",
      "       0.8375    , 0.84166667, 0.83541667, 0.84166667, 0.7625    ,\n",
      "       0.7625    , 0.76041667, 0.76041667, 0.7625    , 0.7625    ,\n",
      "       0.7625    , 0.7625    ]), 'mean_test_score': array([0.80083333, 0.80333333, 0.80041667, 0.80166667, 0.80125   ,\n",
      "       0.80375   , 0.80666667, 0.80333333, 0.80791667, 0.80541667,\n",
      "       0.80791667, 0.80541667, 0.80583333, 0.8075    , 0.80375   ,\n",
      "       0.805     , 0.805     , 0.80458333, 0.80541667, 0.80583333,\n",
      "       0.80666667, 0.80708333, 0.80416667, 0.80541667, 0.73125   ,\n",
      "       0.73083333, 0.73041667, 0.73166667, 0.73166667, 0.73083333,\n",
      "       0.73083333, 0.73041667]), 'std_test_score': array([0.02824742, 0.02765738, 0.0260008 , 0.03077133, 0.02344467,\n",
      "       0.02659496, 0.02214222, 0.02734172, 0.0265296 , 0.02463624,\n",
      "       0.02805624, 0.02604083, 0.02448781, 0.02824742, 0.02869863,\n",
      "       0.02570533, 0.02052268, 0.02170669, 0.02276846, 0.02380476,\n",
      "       0.02154614, 0.02399363, 0.02216573, 0.02417385, 0.03317672,\n",
      "       0.03349959, 0.03207522, 0.03297726, 0.0327395 , 0.03155133,\n",
      "       0.03258003, 0.03290348]), 'rank_test_score': array([23, 19, 24, 21, 22, 17,  5, 19,  1,  9,  1,  9,  7,  3, 17, 13, 13,\n",
      "       15, 12,  7,  5,  4, 16,  9, 27, 28, 32, 25, 25, 28, 28, 31])}\n",
      "{'mlp__alpha': 4.641588833612778, 'mlp__hidden_layer_sizes': (100,), 'mlp__max_iter': 50, 'mlp__solver': 'lbfgs'}\n",
      "0.8079166666666666\n"
     ]
    }
   ],
   "source": [
    "print(grid.cv_results_)\n",
    "print(grid.best_params_)\n",
    "print(grid.best_score_)"
   ]
  },
  {
   "cell_type": "code",
   "execution_count": 52,
   "id": "5994e4eb",
   "metadata": {},
   "outputs": [
    {
     "data": {
      "text/plain": [
       "array([1.25892541, 3.16227766, 7.94328235])"
      ]
     },
     "execution_count": 52,
     "metadata": {},
     "output_type": "execute_result"
    }
   ],
   "source": [
    "np.logspace(0.1,0.9,3)"
   ]
  },
  {
   "cell_type": "code",
   "execution_count": 21,
   "id": "d4cd7b2b",
   "metadata": {
    "scrolled": true
   },
   "outputs": [
    {
     "name": "stdout",
     "output_type": "stream",
     "text": [
      "{'mean_fit_time': array([ 8.32194791,  5.01139984,  2.11115189, 11.0861558 ,  6.82435102,\n",
      "        2.84778371, 13.77297173,  8.70292745,  3.73620653,  8.06603122,\n",
      "        5.01678472,  2.28329363, 11.09134083,  6.90433688,  2.86892719,\n",
      "       13.74983459,  8.73264661,  3.76393242,  7.95911961,  4.99184899,\n",
      "        2.12311997, 10.89785957,  6.87401528,  3.03687901, 13.88566957,\n",
      "        8.78052187,  3.39212708]), 'std_fit_time': array([0.58065451, 0.48652275, 0.23118079, 0.77602815, 0.5544255 ,\n",
      "       0.42324842, 0.62519981, 0.47846101, 0.25132897, 0.32699679,\n",
      "       0.35309458, 0.29326275, 0.75229142, 0.50542722, 0.4399347 ,\n",
      "       0.71642413, 0.59329359, 0.33585742, 0.34358607, 0.4060079 ,\n",
      "       0.42914626, 0.47437204, 0.44646388, 0.15879711, 0.71772478,\n",
      "       0.66392446, 0.60669366]), 'mean_score_time': array([0.01715407, 0.01775393, 0.01775169, 0.01835132, 0.01934915,\n",
      "       0.01715474, 0.01974826, 0.01835313, 0.02054796, 0.02014618,\n",
      "       0.01855478, 0.01615763, 0.02114553, 0.01795149, 0.01655583,\n",
      "       0.01914983, 0.02034831, 0.01994648, 0.01954756, 0.01735415,\n",
      "       0.01855106, 0.0201468 , 0.01715665, 0.01755462, 0.01934915,\n",
      "       0.01875081, 0.0219418 ]), 'std_score_time': array([0.0049429 , 0.00429632, 0.00385686, 0.00348898, 0.00386842,\n",
      "       0.00222163, 0.00263269, 0.00337222, 0.00312867, 0.00324102,\n",
      "       0.00306784, 0.00364515, 0.00725564, 0.00356715, 0.00264731,\n",
      "       0.00330111, 0.00241247, 0.00356769, 0.00386901, 0.00286314,\n",
      "       0.0048279 , 0.00689319, 0.00317988, 0.00325392, 0.00430563,\n",
      "       0.00263348, 0.00388792]), 'param_mlp__alpha': masked_array(data=[1.2589254117941673, 1.2589254117941673,\n",
      "                   1.2589254117941673, 1.2589254117941673,\n",
      "                   1.2589254117941673, 1.2589254117941673,\n",
      "                   1.2589254117941673, 1.2589254117941673,\n",
      "                   1.2589254117941673, 3.1622776601683795,\n",
      "                   3.1622776601683795, 3.1622776601683795,\n",
      "                   3.1622776601683795, 3.1622776601683795,\n",
      "                   3.1622776601683795, 3.1622776601683795,\n",
      "                   3.1622776601683795, 3.1622776601683795,\n",
      "                   7.943282347242816, 7.943282347242816,\n",
      "                   7.943282347242816, 7.943282347242816,\n",
      "                   7.943282347242816, 7.943282347242816,\n",
      "                   7.943282347242816, 7.943282347242816,\n",
      "                   7.943282347242816],\n",
      "             mask=[False, False, False, False, False, False, False, False,\n",
      "                   False, False, False, False, False, False, False, False,\n",
      "                   False, False, False, False, False, False, False, False,\n",
      "                   False, False, False],\n",
      "       fill_value='?',\n",
      "            dtype=object), 'param_mlp__hidden_layer_sizes': masked_array(data=[(75,), (75,), (75,), (100,), (100,), (100,), (125,),\n",
      "                   (125,), (125,), (75,), (75,), (75,), (100,), (100,),\n",
      "                   (100,), (125,), (125,), (125,), (75,), (75,), (75,),\n",
      "                   (100,), (100,), (100,), (125,), (125,), (125,)],\n",
      "             mask=[False, False, False, False, False, False, False, False,\n",
      "                   False, False, False, False, False, False, False, False,\n",
      "                   False, False, False, False, False, False, False, False,\n",
      "                   False, False, False],\n",
      "       fill_value='?',\n",
      "            dtype=object), 'param_mlp__max_iter': masked_array(data=[50, 30, 10, 50, 30, 10, 50, 30, 10, 50, 30, 10, 50, 30,\n",
      "                   10, 50, 30, 10, 50, 30, 10, 50, 30, 10, 50, 30, 10],\n",
      "             mask=[False, False, False, False, False, False, False, False,\n",
      "                   False, False, False, False, False, False, False, False,\n",
      "                   False, False, False, False, False, False, False, False,\n",
      "                   False, False, False],\n",
      "       fill_value='?',\n",
      "            dtype=object), 'param_mlp__solver': masked_array(data=['lbfgs', 'lbfgs', 'lbfgs', 'lbfgs', 'lbfgs', 'lbfgs',\n",
      "                   'lbfgs', 'lbfgs', 'lbfgs', 'lbfgs', 'lbfgs', 'lbfgs',\n",
      "                   'lbfgs', 'lbfgs', 'lbfgs', 'lbfgs', 'lbfgs', 'lbfgs',\n",
      "                   'lbfgs', 'lbfgs', 'lbfgs', 'lbfgs', 'lbfgs', 'lbfgs',\n",
      "                   'lbfgs', 'lbfgs', 'lbfgs'],\n",
      "             mask=[False, False, False, False, False, False, False, False,\n",
      "                   False, False, False, False, False, False, False, False,\n",
      "                   False, False, False, False, False, False, False, False,\n",
      "                   False, False, False],\n",
      "       fill_value='?',\n",
      "            dtype=object), 'params': [{'mlp__alpha': 1.2589254117941673, 'mlp__hidden_layer_sizes': (75,), 'mlp__max_iter': 50, 'mlp__solver': 'lbfgs'}, {'mlp__alpha': 1.2589254117941673, 'mlp__hidden_layer_sizes': (75,), 'mlp__max_iter': 30, 'mlp__solver': 'lbfgs'}, {'mlp__alpha': 1.2589254117941673, 'mlp__hidden_layer_sizes': (75,), 'mlp__max_iter': 10, 'mlp__solver': 'lbfgs'}, {'mlp__alpha': 1.2589254117941673, 'mlp__hidden_layer_sizes': (100,), 'mlp__max_iter': 50, 'mlp__solver': 'lbfgs'}, {'mlp__alpha': 1.2589254117941673, 'mlp__hidden_layer_sizes': (100,), 'mlp__max_iter': 30, 'mlp__solver': 'lbfgs'}, {'mlp__alpha': 1.2589254117941673, 'mlp__hidden_layer_sizes': (100,), 'mlp__max_iter': 10, 'mlp__solver': 'lbfgs'}, {'mlp__alpha': 1.2589254117941673, 'mlp__hidden_layer_sizes': (125,), 'mlp__max_iter': 50, 'mlp__solver': 'lbfgs'}, {'mlp__alpha': 1.2589254117941673, 'mlp__hidden_layer_sizes': (125,), 'mlp__max_iter': 30, 'mlp__solver': 'lbfgs'}, {'mlp__alpha': 1.2589254117941673, 'mlp__hidden_layer_sizes': (125,), 'mlp__max_iter': 10, 'mlp__solver': 'lbfgs'}, {'mlp__alpha': 3.1622776601683795, 'mlp__hidden_layer_sizes': (75,), 'mlp__max_iter': 50, 'mlp__solver': 'lbfgs'}, {'mlp__alpha': 3.1622776601683795, 'mlp__hidden_layer_sizes': (75,), 'mlp__max_iter': 30, 'mlp__solver': 'lbfgs'}, {'mlp__alpha': 3.1622776601683795, 'mlp__hidden_layer_sizes': (75,), 'mlp__max_iter': 10, 'mlp__solver': 'lbfgs'}, {'mlp__alpha': 3.1622776601683795, 'mlp__hidden_layer_sizes': (100,), 'mlp__max_iter': 50, 'mlp__solver': 'lbfgs'}, {'mlp__alpha': 3.1622776601683795, 'mlp__hidden_layer_sizes': (100,), 'mlp__max_iter': 30, 'mlp__solver': 'lbfgs'}, {'mlp__alpha': 3.1622776601683795, 'mlp__hidden_layer_sizes': (100,), 'mlp__max_iter': 10, 'mlp__solver': 'lbfgs'}, {'mlp__alpha': 3.1622776601683795, 'mlp__hidden_layer_sizes': (125,), 'mlp__max_iter': 50, 'mlp__solver': 'lbfgs'}, {'mlp__alpha': 3.1622776601683795, 'mlp__hidden_layer_sizes': (125,), 'mlp__max_iter': 30, 'mlp__solver': 'lbfgs'}, {'mlp__alpha': 3.1622776601683795, 'mlp__hidden_layer_sizes': (125,), 'mlp__max_iter': 10, 'mlp__solver': 'lbfgs'}, {'mlp__alpha': 7.943282347242816, 'mlp__hidden_layer_sizes': (75,), 'mlp__max_iter': 50, 'mlp__solver': 'lbfgs'}, {'mlp__alpha': 7.943282347242816, 'mlp__hidden_layer_sizes': (75,), 'mlp__max_iter': 30, 'mlp__solver': 'lbfgs'}, {'mlp__alpha': 7.943282347242816, 'mlp__hidden_layer_sizes': (75,), 'mlp__max_iter': 10, 'mlp__solver': 'lbfgs'}, {'mlp__alpha': 7.943282347242816, 'mlp__hidden_layer_sizes': (100,), 'mlp__max_iter': 50, 'mlp__solver': 'lbfgs'}, {'mlp__alpha': 7.943282347242816, 'mlp__hidden_layer_sizes': (100,), 'mlp__max_iter': 30, 'mlp__solver': 'lbfgs'}, {'mlp__alpha': 7.943282347242816, 'mlp__hidden_layer_sizes': (100,), 'mlp__max_iter': 10, 'mlp__solver': 'lbfgs'}, {'mlp__alpha': 7.943282347242816, 'mlp__hidden_layer_sizes': (125,), 'mlp__max_iter': 50, 'mlp__solver': 'lbfgs'}, {'mlp__alpha': 7.943282347242816, 'mlp__hidden_layer_sizes': (125,), 'mlp__max_iter': 30, 'mlp__solver': 'lbfgs'}, {'mlp__alpha': 7.943282347242816, 'mlp__hidden_layer_sizes': (125,), 'mlp__max_iter': 10, 'mlp__solver': 'lbfgs'}], 'split0_test_score': array([0.82291667, 0.825     , 0.78541667, 0.82083333, 0.83541667,\n",
      "       0.78958333, 0.80416667, 0.83333333, 0.7875    , 0.82083333,\n",
      "       0.84583333, 0.7875    , 0.825     , 0.82916667, 0.80416667,\n",
      "       0.8125    , 0.8375    , 0.7625    , 0.825     , 0.82916667,\n",
      "       0.73541667, 0.825     , 0.83541667, 0.75625   , 0.825     ,\n",
      "       0.83958333, 0.78541667]), 'split1_test_score': array([0.80833333, 0.8       , 0.75208333, 0.79583333, 0.80625   ,\n",
      "       0.76041667, 0.79375   , 0.79583333, 0.78958333, 0.81458333,\n",
      "       0.80416667, 0.76458333, 0.81041667, 0.8125    , 0.7875    ,\n",
      "       0.81458333, 0.80208333, 0.76875   , 0.82291667, 0.81458333,\n",
      "       0.79375   , 0.81666667, 0.81041667, 0.78541667, 0.82291667,\n",
      "       0.81875   , 0.73541667]), 'split2_test_score': array([0.76666667, 0.7625    , 0.72916667, 0.76666667, 0.75625   ,\n",
      "       0.73125   , 0.75833333, 0.75208333, 0.7375    , 0.76875   ,\n",
      "       0.75625   , 0.72708333, 0.76875   , 0.75833333, 0.72916667,\n",
      "       0.77083333, 0.74166667, 0.73541667, 0.76875   , 0.76041667,\n",
      "       0.73541667, 0.76875   , 0.75625   , 0.7125    , 0.76875   ,\n",
      "       0.76041667, 0.66666667]), 'split3_test_score': array([0.79166667, 0.76041667, 0.73958333, 0.78333333, 0.77916667,\n",
      "       0.7375    , 0.78958333, 0.77083333, 0.76666667, 0.78958333,\n",
      "       0.77291667, 0.74583333, 0.77916667, 0.77291667, 0.73958333,\n",
      "       0.77916667, 0.76458333, 0.74791667, 0.79166667, 0.78333333,\n",
      "       0.74166667, 0.7875    , 0.7875    , 0.74375   , 0.78125   ,\n",
      "       0.78125   , 0.75625   ]), 'split4_test_score': array([0.83125   , 0.81458333, 0.80416667, 0.84791667, 0.82291667,\n",
      "       0.8125    , 0.83541667, 0.84375   , 0.8125    , 0.84375   ,\n",
      "       0.83958333, 0.79375   , 0.83541667, 0.825     , 0.7875    ,\n",
      "       0.83958333, 0.84375   , 0.80416667, 0.84375   , 0.82291667,\n",
      "       0.8       , 0.8375    , 0.8375    , 0.79375   , 0.84166667,\n",
      "       0.83125   , 0.7875    ]), 'mean_test_score': array([0.80416667, 0.7925    , 0.76208333, 0.80291667, 0.8       ,\n",
      "       0.76625   , 0.79625   , 0.79916667, 0.77875   , 0.8075    ,\n",
      "       0.80375   , 0.76375   , 0.80375   , 0.79958333, 0.76958333,\n",
      "       0.80333333, 0.79791667, 0.76375   , 0.81041667, 0.80208333,\n",
      "       0.76125   , 0.80708333, 0.80541667, 0.75833333, 0.80791667,\n",
      "       0.80625   , 0.74625   ]), 'std_test_score': array([0.02308649, 0.02656883, 0.02830268, 0.02861381, 0.02886751,\n",
      "       0.03088397, 0.02483976, 0.03517318, 0.02522124, 0.02594064,\n",
      "       0.0353897 , 0.02502082, 0.02579971, 0.02863807, 0.02956866,\n",
      "       0.02515922, 0.03990005, 0.0232961 , 0.0267122 , 0.02612071,\n",
      "       0.02924395, 0.02526251, 0.03063563, 0.02934469, 0.02793221,\n",
      "       0.03039097, 0.04424129]), 'rank_test_score': array([ 7, 18, 24, 11, 13, 21, 17, 15, 19,  3,  9, 22,  8, 14, 20, 10, 16,\n",
      "       23,  1, 12, 25,  4,  6, 26,  2,  5, 27])}\n",
      "{'mlp__alpha': 7.943282347242816, 'mlp__hidden_layer_sizes': (75,), 'mlp__max_iter': 50, 'mlp__solver': 'lbfgs'}\n",
      "0.8104166666666668\n",
      "244.81019973754883\n"
     ]
    },
    {
     "name": "stderr",
     "output_type": "stream",
     "text": [
      "C:\\Users\\Zhaohui Zhang\\.conda\\envs\\ml135_env_sp21\\lib\\site-packages\\sklearn\\neural_network\\_multilayer_perceptron.py:500: ConvergenceWarning: lbfgs failed to converge (status=1):\n",
      "STOP: TOTAL NO. of ITERATIONS REACHED LIMIT.\n",
      "\n",
      "Increase the number of iterations (max_iter) or scale the data as shown in:\n",
      "    https://scikit-learn.org/stable/modules/preprocessing.html\n",
      "  self.n_iter_ = _check_optimize_result(\"lbfgs\", opt_res, self.max_iter)\n"
     ]
    }
   ],
   "source": [
    "param_grid = {'mlp__hidden_layer_sizes':[(75,), (100,), (125,)], \n",
    "              'mlp__solver': ['lbfgs'],\n",
    "              'mlp__alpha': np.logspace(0.1,0.9,3),\n",
    "              'mlp__max_iter': [50, 30, 10]          \n",
    "             }\n",
    "pipeline = Pipeline(\n",
    "    [\n",
    "        (\"vect\", CountVectorizer()),\n",
    "        ('mlp', MLPClassifier())\n",
    "    ]\n",
    ")\n",
    "\n",
    "a = time.time()\n",
    "\n",
    "grid = GridSearchCV(pipeline, param_grid, return_train_score = False, n_jobs = -1)\n",
    "grid.fit(x_train['text_processed'], y_train.values.reshape(-1))\n",
    "print(grid.cv_results_)\n",
    "print(grid.best_params_)\n",
    "print(grid.best_score_)\n",
    "print(time.time()-a)"
   ]
  },
  {
   "cell_type": "markdown",
   "id": "879e38cb",
   "metadata": {},
   "source": [
    "{'mlp__alpha': 7.943282347242816, 'mlp__hidden_layer_sizes': (75,), 'mlp__max_iter': 50, 'mlp__solver': 'lbfgs'}"
   ]
  },
  {
   "cell_type": "code",
   "execution_count": null,
   "id": "272fc272",
   "metadata": {},
   "outputs": [],
   "source": []
  },
  {
   "cell_type": "code",
   "execution_count": 29,
   "id": "b95cb0d3",
   "metadata": {},
   "outputs": [
    {
     "name": "stdout",
     "output_type": "stream",
     "text": [
      "{'mlp__alpha': 7.943282347242816, 'mlp__hidden_layer_sizes': (75,), 'mlp__max_iter': 68.12920690579611, 'mlp__solver': 'lbfgs'}\n",
      "0.8104166666666668\n"
     ]
    },
    {
     "name": "stderr",
     "output_type": "stream",
     "text": [
      "C:\\Users\\Zhaohui Zhang\\.conda\\envs\\ml135_env_sp21\\lib\\site-packages\\sklearn\\neural_network\\_multilayer_perceptron.py:500: ConvergenceWarning: lbfgs failed to converge (status=1):\n",
      "STOP: TOTAL NO. of ITERATIONS REACHED LIMIT.\n",
      "\n",
      "Increase the number of iterations (max_iter) or scale the data as shown in:\n",
      "    https://scikit-learn.org/stable/modules/preprocessing.html\n",
      "  self.n_iter_ = _check_optimize_result(\"lbfgs\", opt_res, self.max_iter)\n"
     ]
    }
   ],
   "source": [
    "# max iter\n",
    "param_grid1 = {'mlp__hidden_layer_sizes':[(75,)], \n",
    "              'mlp__solver': ['lbfgs'],\n",
    "              'mlp__alpha': [7.943282347242816],\n",
    "              'mlp__max_iter': np.logspace(1,2.5, 10)         \n",
    "             }\n",
    "pipeline1 = Pipeline(\n",
    "    [\n",
    "        (\"vect\", CountVectorizer()),\n",
    "        ('mlp', MLPClassifier())\n",
    "    ]\n",
    ")\n",
    "grid1 = GridSearchCV(pipeline1, param_grid1, return_train_score = True, n_jobs = -1)\n",
    "grid1.fit(x_train['text_processed'], y_train.values.reshape(-1))\n",
    "print(grid1.best_params_)\n",
    "print(grid1.best_score_)"
   ]
  },
  {
   "cell_type": "code",
   "execution_count": 30,
   "id": "ead9057d",
   "metadata": {},
   "outputs": [
    {
     "data": {
      "text/plain": [
       "<matplotlib.legend.Legend at 0x22134cc2a90>"
      ]
     },
     "execution_count": 30,
     "metadata": {},
     "output_type": "execute_result"
    },
    {
     "data": {
      "image/png": "[encoded data removed]",
      "text/plain": [
       "<Figure size 576x396 with 1 Axes>"
      ]
     },
     "metadata": {},
     "output_type": "display_data"
    }
   ],
   "source": [
    "def log_iter(row):\n",
    "    return math.log(row['param_mlp__max_iter'])\n",
    "d1 = pd.DataFrame.from_dict(grid1.cv_results_).sort_values(by = ['param_mlp__max_iter'])\n",
    "d1['log_iter'] = d1.apply(lambda row: log_iter(row), axis = 1)\n",
    "plt.errorbar(d1['log_iter'],d1['mean_test_score'], d1['std_test_score'], ecolor = 'darkblue',color = 'lightskyblue', label = 'test')\n",
    "plt.errorbar(d1['log_iter'],d1['mean_train_score'], d1['std_train_score'], ecolor = 'darkred', color = 'lightcoral', label = 'train')\n",
    "plt.xlabel('log max iterator')\n",
    "plt.ylabel('score')\n",
    "plt.title('Score vs. log max iter given alpha = 7.94 and hidden_layer_size = 75')\n",
    "plt.legend()"
   ]
  },
  {
   "cell_type": "code",
   "execution_count": 32,
   "id": "6239ac50",
   "metadata": {},
   "outputs": [
    {
     "name": "stdout",
     "output_type": "stream",
     "text": [
      "{'mlp__alpha': 11.659144011798316, 'mlp__hidden_layer_sizes': (75,), 'mlp__max_iter': 50, 'mlp__solver': 'lbfgs'}\n",
      "0.8108333333333334\n"
     ]
    },
    {
     "name": "stderr",
     "output_type": "stream",
     "text": [
      "C:\\Users\\Zhaohui Zhang\\.conda\\envs\\ml135_env_sp21\\lib\\site-packages\\sklearn\\neural_network\\_multilayer_perceptron.py:500: ConvergenceWarning: lbfgs failed to converge (status=1):\n",
      "STOP: TOTAL NO. of ITERATIONS REACHED LIMIT.\n",
      "\n",
      "Increase the number of iterations (max_iter) or scale the data as shown in:\n",
      "    https://scikit-learn.org/stable/modules/preprocessing.html\n",
      "  self.n_iter_ = _check_optimize_result(\"lbfgs\", opt_res, self.max_iter)\n"
     ]
    }
   ],
   "source": [
    "# alpha\n",
    "param_grid2 = {'mlp__hidden_layer_sizes':[(75,)], \n",
    "              'mlp__solver': ['lbfgs'],\n",
    "              'mlp__alpha': np.logspace(0, 1.2, 10),\n",
    "              'mlp__max_iter': [50]        \n",
    "             }\n",
    "pipeline2 = Pipeline(\n",
    "    [\n",
    "        (\"vect\", CountVectorizer()),\n",
    "        ('mlp', MLPClassifier())\n",
    "    ]\n",
    ")\n",
    "grid2 = GridSearchCV(pipeline2, param_grid2, return_train_score = True, n_jobs = -1)\n",
    "grid2.fit(x_train['text_processed'], y_train.values.reshape(-1))\n",
    "print(grid2.best_params_)\n",
    "print(grid2.best_score_)"
   ]
  },
  {
   "cell_type": "code",
   "execution_count": 34,
   "id": "50d1ef7c",
   "metadata": {},
   "outputs": [
    {
     "data": {
      "text/plain": [
       "<matplotlib.legend.Legend at 0x22137474b20>"
      ]
     },
     "execution_count": 34,
     "metadata": {},
     "output_type": "execute_result"
    },
    {
     "data": {
      "image/png": "[encoded data removed]",
      "text/plain": [
       "<Figure size 576x396 with 1 Axes>"
      ]
     },
     "metadata": {},
     "output_type": "display_data"
    }
   ],
   "source": [
    "def log_alpha(row):\n",
    "    return math.log(row['param_mlp__alpha'])\n",
    "d2 = pd.DataFrame.from_dict(grid2.cv_results_).sort_values(by = ['param_mlp__alpha'])\n",
    "d2['log_alpha'] = d2.apply(lambda row: log_alpha(row), axis = 1)\n",
    "plt.errorbar(d2['log_alpha'],d2['mean_test_score'], d2['std_test_score'], ecolor = 'darkblue',color = 'lightskyblue', label = 'test')\n",
    "plt.errorbar(d2['log_alpha'],d2['mean_train_score'], d2['std_train_score'], ecolor = 'darkred', color = 'lightcoral', label = 'train')\n",
    "plt.xlabel('log alpha')\n",
    "plt.ylabel('score')\n",
    "plt.title('Score vs. log alpha given max_iter = 50 and hidden_layer_size = 75')\n",
    "plt.legend()"
   ]
  },
  {
   "cell_type": "code",
   "execution_count": 35,
   "id": "ce9cbfbb",
   "metadata": {},
   "outputs": [
    {
     "name": "stdout",
     "output_type": "stream",
     "text": [
      "{'mlp__alpha': 7.943282347242816, 'mlp__hidden_layer_sizes': (70,), 'mlp__max_iter': 50, 'mlp__solver': 'lbfgs'}\n",
      "0.8116666666666668\n"
     ]
    },
    {
     "name": "stderr",
     "output_type": "stream",
     "text": [
      "C:\\Users\\Zhaohui Zhang\\.conda\\envs\\ml135_env_sp21\\lib\\site-packages\\sklearn\\neural_network\\_multilayer_perceptron.py:500: ConvergenceWarning: lbfgs failed to converge (status=1):\n",
      "STOP: TOTAL NO. of ITERATIONS REACHED LIMIT.\n",
      "\n",
      "Increase the number of iterations (max_iter) or scale the data as shown in:\n",
      "    https://scikit-learn.org/stable/modules/preprocessing.html\n",
      "  self.n_iter_ = _check_optimize_result(\"lbfgs\", opt_res, self.max_iter)\n"
     ]
    }
   ],
   "source": [
    "# layer size\n",
    "param_grid3 = {'mlp__hidden_layer_sizes':[(10*(x+1),) for x in range(10)], \n",
    "              'mlp__solver': ['lbfgs'],\n",
    "              'mlp__alpha': [7.943282347242816],\n",
    "              'mlp__max_iter': [50]        \n",
    "             }\n",
    "pipeline3 = Pipeline(\n",
    "    [\n",
    "        (\"vect\", CountVectorizer()),\n",
    "        ('mlp', MLPClassifier())\n",
    "    ]\n",
    ")\n",
    "grid3 = GridSearchCV(pipeline3, param_grid3, return_train_score = True, n_jobs = -1)\n",
    "grid3.fit(x_train['text_processed'], y_train.values.reshape(-1))\n",
    "print(grid3.best_params_)\n",
    "print(grid3.best_score_)"
   ]
  },
  {
   "cell_type": "code",
   "execution_count": 48,
   "id": "2411587b",
   "metadata": {},
   "outputs": [
    {
     "data": {
      "text/plain": [
       "<matplotlib.legend.Legend at 0x22134f610d0>"
      ]
     },
     "execution_count": 48,
     "metadata": {},
     "output_type": "execute_result"
    },
    {
     "data": {
      "image/png": "[encoded data removed]",
      "text/plain": [
       "<Figure size 576x396 with 1 Axes>"
      ]
     },
     "metadata": {},
     "output_type": "display_data"
    }
   ],
   "source": [
    "d3 = pd.DataFrame.from_dict(grid3.cv_results_).sort_values(by = ['param_mlp__hidden_layer_sizes'][0])\n",
    "plt.errorbar([x[0] for x  in d3['param_mlp__hidden_layer_sizes']],d3['mean_test_score'], d3['std_test_score'], ecolor = 'darkblue',color = 'lightskyblue', label = 'test')\n",
    "plt.errorbar([x[0] for x  in d3['param_mlp__hidden_layer_sizes']],d3['mean_train_score'], d3['std_train_score'], ecolor = 'darkred', color = 'lightcoral', label = 'train')\n",
    "plt.xlabel('hidden_layer_size')\n",
    "plt.ylabel('score')\n",
    "plt.title('Score vs. hidden_layer_size given max_iter = 50 and alpha = 7.94')\n",
    "plt.legend()"
   ]
  },
  {
   "cell_type": "code",
   "execution_count": null,
   "id": "a7e2c236",
   "metadata": {},
   "outputs": [],
   "source": []
  },
  {
   "cell_type": "code",
   "execution_count": 51,
   "id": "aaf8c03d",
   "metadata": {},
   "outputs": [
    {
     "name": "stdout",
     "output_type": "stream",
     "text": [
      "{'mlp__alpha': 7.943282347242816, 'mlp__hidden_layer_sizes': (75,), 'mlp__max_iter': 21.544346900318832, 'mlp__solver': 'lbfgs'}\n",
      "0.8108333333333334\n"
     ]
    },
    {
     "name": "stderr",
     "output_type": "stream",
     "text": [
      "C:\\Users\\Zhaohui Zhang\\.conda\\envs\\ml135_env_sp21\\lib\\site-packages\\sklearn\\neural_network\\_multilayer_perceptron.py:500: ConvergenceWarning: lbfgs failed to converge (status=1):\n",
      "STOP: TOTAL NO. of ITERATIONS REACHED LIMIT.\n",
      "\n",
      "Increase the number of iterations (max_iter) or scale the data as shown in:\n",
      "    https://scikit-learn.org/stable/modules/preprocessing.html\n",
      "  self.n_iter_ = _check_optimize_result(\"lbfgs\", opt_res, self.max_iter)\n"
     ]
    },
    {
     "data": {
      "text/plain": [
       "<matplotlib.legend.Legend at 0x221377e1ca0>"
      ]
     },
     "execution_count": 51,
     "metadata": {},
     "output_type": "execute_result"
    },
    {
     "data": {
      "image/png": "[encoded data removed]",
      "text/plain": [
       "<Figure size 576x396 with 1 Axes>"
      ]
     },
     "metadata": {},
     "output_type": "display_data"
    }
   ],
   "source": [
    "# max iter\n",
    "param_grid1 = {'mlp__hidden_layer_sizes':[(75,)], \n",
    "              'mlp__solver': ['lbfgs'],\n",
    "              'mlp__alpha': [7.943282347242816],\n",
    "              'mlp__max_iter': np.logspace(0,3, 10)         \n",
    "             }\n",
    "pipeline1 = Pipeline(\n",
    "    [\n",
    "        (\"vect\", CountVectorizer()),\n",
    "        ('mlp', MLPClassifier())\n",
    "    ]\n",
    ")\n",
    "grid1 = GridSearchCV(pipeline1, param_grid1, return_train_score = True, n_jobs = -1)\n",
    "grid1.fit(x_train['text_processed'], y_train.values.reshape(-1))\n",
    "print(grid1.best_params_)\n",
    "print(grid1.best_score_)\n",
    "def log_iter(row):\n",
    "    return math.log(row['param_mlp__max_iter'])\n",
    "d1 = pd.DataFrame.from_dict(grid1.cv_results_).sort_values(by = ['param_mlp__max_iter'])\n",
    "d1['log_iter'] = d1.apply(lambda row: log_iter(row), axis = 1)\n",
    "plt.errorbar(d1['log_iter'],d1['mean_test_score'], d1['std_test_score'], ecolor = 'darkblue',color = 'lightskyblue', label = 'test')\n",
    "plt.errorbar(d1['log_iter'],d1['mean_train_score'], d1['std_train_score'], ecolor = 'darkred', color = 'lightcoral', label = 'train')\n",
    "plt.xlabel('log max iterator')\n",
    "plt.ylabel('score')\n",
    "plt.title('Score vs. log max iter given alpha = 7.94 and hidden_layer_size = 75')\n",
    "plt.legend()"
   ]
  },
  {
   "cell_type": "code",
   "execution_count": 50,
   "id": "cfd82f6e",
   "metadata": {},
   "outputs": [
    {
     "name": "stdout",
     "output_type": "stream",
     "text": [
      "{'mlp__alpha': 4.6415888336127775, 'mlp__hidden_layer_sizes': (75,), 'mlp__max_iter': 50, 'mlp__solver': 'lbfgs'}\n",
      "0.80625\n"
     ]
    },
    {
     "name": "stderr",
     "output_type": "stream",
     "text": [
      "C:\\Users\\Zhaohui Zhang\\.conda\\envs\\ml135_env_sp21\\lib\\site-packages\\sklearn\\neural_network\\_multilayer_perceptron.py:500: ConvergenceWarning: lbfgs failed to converge (status=1):\n",
      "STOP: TOTAL NO. of ITERATIONS REACHED LIMIT.\n",
      "\n",
      "Increase the number of iterations (max_iter) or scale the data as shown in:\n",
      "    https://scikit-learn.org/stable/modules/preprocessing.html\n",
      "  self.n_iter_ = _check_optimize_result(\"lbfgs\", opt_res, self.max_iter)\n"
     ]
    },
    {
     "data": {
      "text/plain": [
       "<matplotlib.legend.Legend at 0x22135016d60>"
      ]
     },
     "execution_count": 50,
     "metadata": {},
     "output_type": "execute_result"
    },
    {
     "data": {
      "image/png": "[encoded data removed]",
      "text/plain": [
       "<Figure size 576x396 with 1 Axes>"
      ]
     },
     "metadata": {},
     "output_type": "display_data"
    }
   ],
   "source": [
    "# alpha\n",
    "param_grid2 = {'mlp__hidden_layer_sizes':[(75,)], \n",
    "              'mlp__solver': ['lbfgs'],\n",
    "              'mlp__alpha': np.logspace(-2, 2, 10),\n",
    "              'mlp__max_iter': [50]        \n",
    "             }\n",
    "pipeline2 = Pipeline(\n",
    "    [\n",
    "        (\"vect\", CountVectorizer()),\n",
    "        ('mlp', MLPClassifier())\n",
    "    ]\n",
    ")\n",
    "grid2 = GridSearchCV(pipeline2, param_grid2, return_train_score = True, n_jobs = -1)\n",
    "grid2.fit(x_train['text_processed'], y_train.values.reshape(-1))\n",
    "print(grid2.best_params_)\n",
    "print(grid2.best_score_)\n",
    "def log_alpha(row):\n",
    "    return math.log(row['param_mlp__alpha'])\n",
    "d2 = pd.DataFrame.from_dict(grid2.cv_results_).sort_values(by = ['param_mlp__alpha'])\n",
    "d2['log_alpha'] = d2.apply(lambda row: log_alpha(row), axis = 1)\n",
    "plt.errorbar(d2['log_alpha'],d2['mean_test_score'], d2['std_test_score'], ecolor = 'darkblue',color = 'lightskyblue', label = 'test')\n",
    "plt.errorbar(d2['log_alpha'],d2['mean_train_score'], d2['std_train_score'], ecolor = 'darkred', color = 'lightcoral', label = 'train')\n",
    "plt.xlabel('log alpha')\n",
    "plt.ylabel('score')\n",
    "plt.title('Score vs. log alpha given max_iter = 50 and hidden_layer_size = 75')\n",
    "plt.legend()"
   ]
  },
  {
   "cell_type": "code",
   "execution_count": null,
   "id": "cba114b4",
   "metadata": {},
   "outputs": [],
   "source": []
  },
  {
   "cell_type": "code",
   "execution_count": null,
   "id": "2cc572f4",
   "metadata": {},
   "outputs": [],
   "source": []
  },
  {
   "cell_type": "code",
   "execution_count": null,
   "id": "01a01817",
   "metadata": {},
   "outputs": [],
   "source": []
  },
  {
   "cell_type": "markdown",
   "id": "cbc563fe",
   "metadata": {},
   "source": [
    "array([{'logi__penalty': 'l2', 'logi__max_iter': 154.0, 'logi__C': 1.6681005372000592}],\n",
    "      dtype=object)"
   ]
  },
  {
   "cell_type": "code",
   "execution_count": null,
   "id": "18f1b390",
   "metadata": {
    "scrolled": true
   },
   "outputs": [],
   "source": [
    "# param_grid = {'logi__C':np.logspace(-1,1,40), 'logi__penalty':['l2'],'logi__max_iter':np.ceil(np.logspace(1.7,2.7, 50))}\n",
    "\n",
    "# grid = RandomizedSearchCV(pipeline, param_grid, n_iter = 100, return_train_score = True, n_jobs = -1)\n",
    "# grid.fit(x_train['text_processed'], y_train.values.reshape(-1))\n",
    "# print(grid.cv_results_)\n",
    "# print(grid.best_params_)\n",
    "# print(grid.best_score_)"
   ]
  },
  {
   "cell_type": "markdown",
   "id": "cf03d601",
   "metadata": {},
   "source": [
    "{'logi__penalty': 'l2', 'logi__max_iter': 329.0, 'logi__C': 1.0608183551394483}\n",
    "0.8099999999999999"
   ]
  },
  {
   "cell_type": "code",
   "execution_count": null,
   "id": "250424a3",
   "metadata": {},
   "outputs": [],
   "source": [
    "# param_grid = { 'logi__penalty':['l2'],'logi__max_iter':np.ceil(np.logspace(1,2.7, 150))}\n",
    "# pipeline = Pipeline(\n",
    "#     [\n",
    "#         (\"vect\", CountVectorizer()),\n",
    "#         ('logi', LogisticRegression(C = 1.0608183551394483, n_jobs = -1, solver = 'saga'))\n",
    "#     ]\n",
    "# )\n",
    "# grid = RandomizedSearchCV(pipeline, param_grid, n_iter = 20, return_train_score = True, n_jobs = -1)\n",
    "# grid.fit(x_train['text_processed'], y_train.values.reshape(-1))\n",
    "# print(grid.best_params_)\n",
    "# print(grid.best_score_)"
   ]
  },
  {
   "cell_type": "code",
   "execution_count": null,
   "id": "ae92a86b",
   "metadata": {},
   "outputs": [],
   "source": [
    "# def log_iter(row):\n",
    "#     return math.log(row['param_logi__max_iter'])"
   ]
  },
  {
   "cell_type": "code",
   "execution_count": null,
   "id": "b964b9b0",
   "metadata": {},
   "outputs": [],
   "source": [
    "# d = pd.DataFrame.from_dict(grid.cv_results_).sort_values(by = ['param_logi__max_iter'])\n",
    "# d['log_iter'] = d.apply(lambda row: log_iter(row), axis = 1)"
   ]
  },
  {
   "cell_type": "code",
   "execution_count": null,
   "id": "5f5764f1",
   "metadata": {
    "scrolled": true
   },
   "outputs": [],
   "source": [
    "# plt.errorbar(d['log_iter'],d['mean_test_score'], d['std_test_score'], ecolor = 'darkblue',color = 'lightskyblue', label = 'test')\n",
    "# plt.errorbar(d['log_iter'],d['mean_train_score'], d['std_train_score'], ecolor = 'darkred', color = 'lightcoral', label = 'train')\n",
    "# plt.xlabel('log max iterator')\n",
    "# plt.ylabel('score')\n",
    "# plt.title('Score vs. log max iter given C = 1.06 and penalty = l2')\n",
    "# plt.legend()"
   ]
  },
  {
   "cell_type": "code",
   "execution_count": null,
   "id": "da4e7a54",
   "metadata": {},
   "outputs": [],
   "source": [
    "# param_grid = {'logi__C':np.logspace(-2,1,100), 'logi__penalty':['l2']}\n",
    "# pipeline = Pipeline(\n",
    "#     [\n",
    "#         (\"vect\", CountVectorizer()),\n",
    "#         ('logi', LogisticRegression(n_jobs = -1, solver = 'saga', max_iter = 416))\n",
    "#     ]\n",
    "# )\n",
    "# grid = RandomizedSearchCV(pipeline, param_grid, n_iter = 20, return_train_score = True, n_jobs = -1)\n",
    "# grid.fit(x_train['text_processed'], y_train.values.reshape(-1))\n",
    "# print(grid.best_params_)\n",
    "# print(grid.best_score_)"
   ]
  },
  {
   "cell_type": "code",
   "execution_count": null,
   "id": "3528dfa5",
   "metadata": {},
   "outputs": [],
   "source": [
    "# def logC(row):\n",
    "#     return math.log(row['param_logi__C'])\n",
    "\n",
    "# d = pd.DataFrame.from_dict(grid.cv_results_).sort_values(by = ['param_logi__C'])\n",
    "# d['log_c'] = d.apply(lambda row: logC(row), axis = 1)\n",
    "\n",
    "# plt.errorbar(d['log_c'],d['mean_test_score'], d['std_test_score'], ecolor = 'darkblue', color = 'blue', label = 'test')\n",
    "# plt.errorbar(d['log_c'],d['mean_train_score'], d['std_train_score'], ecolor = 'darkred', color = 'lightcoral', label = 'train')\n",
    "# plt.xlabel('log C')\n",
    "# plt.ylabel('score')\n",
    "# plt.title('Score vs. log C given max_iter = 416 and penalty = l2')\n",
    "# plt.legend()"
   ]
  },
  {
   "cell_type": "code",
   "execution_count": null,
   "id": "10cc2f88",
   "metadata": {},
   "outputs": [],
   "source": []
  }
 ],
 "metadata": {
  "kernelspec": {
   "display_name": "Python 3 (ipykernel)",
   "language": "python",
   "name": "python3"
  },
  "language_info": {
   "codemirror_mode": {
    "name": "ipython",
    "version": 3
   },
   "file_extension": ".py",
   "mimetype": "text/x-python",
   "name": "python",
   "nbconvert_exporter": "python",
   "pygments_lexer": "ipython3",
   "version": "3.8.11"
  },
  "varInspector": {
   "cols": {
    "lenName": 16,
    "lenType": 16,
    "lenVar": 40
   },
   "kernels_config": {
    "python": {
     "delete_cmd_postfix": "",
     "delete_cmd_prefix": "del ",
     "library": "var_list.py",
     "varRefreshCmd": "print(var_dic_list())"
    },
    "r": {
     "delete_cmd_postfix": ") ",
     "delete_cmd_prefix": "rm(",
     "library": "var_list.r",
     "varRefreshCmd": "cat(var_dic_list()) "
    }
   },
   "position": {
    "height": "520.85px",
    "left": "1150.2px",
    "right": "20px",
    "top": "121px",
    "width": "350px"
   },
   "types_to_exclude": [
    "module",
    "function",
    "builtin_function_or_method",
    "instance",
    "_Feature"
   ],
   "window_display": false
  }
 },
 "nbformat": 4,
 "nbformat_minor": 5
}
